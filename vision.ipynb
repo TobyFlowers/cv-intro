{
 "cells": [
  {
   "cell_type": "code",
   "execution_count": 4,
   "metadata": {},
   "outputs": [],
   "source": [
    "import lane_detection\n",
    "import lane_following\n",
    "import cv2\n",
    "import numpy as np\n",
    "import matplotlib.pyplot as plt\n",
    "import os\n"
   ]
  },
  {
   "cell_type": "code",
   "execution_count": 5,
   "metadata": {},
   "outputs": [],
   "source": [
    "folder = \"/home/toby/code/cv/cv-intro/frames/\"\n"
   ]
  },
  {
   "cell_type": "code",
   "execution_count": 6,
   "metadata": {},
   "outputs": [
    {
     "ename": "TypeError",
     "evalue": "'NoneType' object is not iterable",
     "output_type": "error",
     "traceback": [
      "\u001b[0;31m---------------------------------------------------------------------------\u001b[0m",
      "\u001b[0;31mTypeError\u001b[0m                                 Traceback (most recent call last)",
      "Cell \u001b[0;32mIn[6], line 24\u001b[0m\n\u001b[1;32m     22\u001b[0m     cv2\u001b[39m.\u001b[39mimwrite(output_path, colorImg)\n\u001b[1;32m     23\u001b[0m \u001b[39melse\u001b[39;00m:\n\u001b[0;32m---> 24\u001b[0m     lanes \u001b[39m=\u001b[39m lane_detection\u001b[39m.\u001b[39;49mdetect_lanes(lines, temp\u001b[39m.\u001b[39;49mshape[\u001b[39m0\u001b[39;49m])\n\u001b[1;32m     25\u001b[0m     \u001b[39m#print(lanes)\u001b[39;00m\n\u001b[1;32m     26\u001b[0m     drawing \u001b[39m=\u001b[39m lane_detection\u001b[39m.\u001b[39mdraw_lanes(temp, lanes)\n",
      "File \u001b[0;32m~/code/cv/cv-intro/lane_detection.py:61\u001b[0m, in \u001b[0;36mdetect_lanes\u001b[0;34m(lines, screen_height)\u001b[0m\n\u001b[1;32m     56\u001b[0m \u001b[39mdef\u001b[39;00m \u001b[39mdetect_lanes\u001b[39m(lines, screen_height):\n\u001b[1;32m     57\u001b[0m \n\u001b[1;32m     58\u001b[0m     \u001b[39m#MERGE LINES\u001b[39;00m\n\u001b[1;32m     59\u001b[0m     lanes \u001b[39m=\u001b[39m []\n\u001b[0;32m---> 61\u001b[0m     \u001b[39mfor\u001b[39;00m line \u001b[39min\u001b[39;00m lines:\n\u001b[1;32m     62\u001b[0m         \u001b[39m#print(line[0])\u001b[39;00m\n\u001b[1;32m     63\u001b[0m         x1, y1, x2, y2 \u001b[39m=\u001b[39m line[\u001b[39m0\u001b[39m]\n\u001b[1;32m     64\u001b[0m         deltaY \u001b[39m=\u001b[39m y2 \u001b[39m-\u001b[39m y1\n",
      "\u001b[0;31mTypeError\u001b[0m: 'NoneType' object is not iterable"
     ]
    }
   ],
   "source": [
    "vcap = cv2.VideoCapture(\"AUV_Vid.mkv\")\n",
    "\n",
    "frequency = 24\n",
    "count = 0\n",
    "\n",
    "while True:\n",
    "    ret, img = vcap.read()\n",
    "\n",
    "    if not ret:\n",
    "        break\n",
    "\n",
    "\n",
    "    if count % frequency == 0:\n",
    "        temp = img.copy()[int(img.shape[0]/2):]\n",
    "        c = temp.shape[0]/2\n",
    "        w = temp.shape[1]\n",
    "        \n",
    "        lines = lane_detection.detect_lines(temp, threshold1=50,threshold2=50, apertureSize=3,maxLineGap = 200, minLineLength=50)\n",
    "        if type(lines) == None:\n",
    "            colorImg = cv2.cvtColor(img, cv2.COLOR_BGR2RGB)\n",
    "            output_path = os.path.join(folder, f\"{str(count)}.jpg\")\n",
    "            cv2.imwrite(output_path, colorImg)\n",
    "        else:\n",
    "            lanes = lane_detection.detect_lanes(lines, temp.shape[0])\n",
    "            #print(lanes)\n",
    "            drawing = lane_detection.draw_lanes(temp, lanes)\n",
    "            center = lane_following.get_lane_center(lanes)\n",
    "\n",
    "\n",
    "            cen = lane_following.get_center_line(center[0], center[1],temp.shape[0])\n",
    "            firstHalf = img.copy()[:int(img.shape[0]/2)]\n",
    "            secondHalf = lane_following.draw_center(drawing, cen)\n",
    "            full = np.concatenate((firstHalf, secondHalf), axis=0)\n",
    "            colorImg = cv2.cvtColor(full, cv2.COLOR_BGR2RGB)\n",
    "            output_path = os.path.join(folder, f\"{str(count)}.jpg\")\n",
    "            #print(output_path)\n",
    "            cv2.imwrite(output_path, colorImg)\n",
    "\n",
    "\n",
    "    count += 1"
   ]
  }
 ],
 "metadata": {
  "kernelspec": {
   "display_name": "bluecv",
   "language": "python",
   "name": "python3"
  },
  "language_info": {
   "codemirror_mode": {
    "name": "ipython",
    "version": 3
   },
   "file_extension": ".py",
   "mimetype": "text/x-python",
   "name": "python",
   "nbconvert_exporter": "python",
   "pygments_lexer": "ipython3",
   "version": "3.9.2"
  },
  "orig_nbformat": 4
 },
 "nbformat": 4,
 "nbformat_minor": 2
}
