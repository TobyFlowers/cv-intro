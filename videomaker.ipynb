{
 "cells": [
  {
   "cell_type": "code",
   "execution_count": 1,
   "metadata": {},
   "outputs": [
    {
     "name": "stderr",
     "output_type": "stream",
     "text": [
      "[ WARN:0@0.039] global loadsave.cpp:248 findDecoder imread_('h'): can't open/read file: check file path/integrity\n",
      "[ WARN:0@0.040] global loadsave.cpp:248 findDecoder imread_('o'): can't open/read file: check file path/integrity\n",
      "[ WARN:0@0.041] global loadsave.cpp:248 findDecoder imread_('m'): can't open/read file: check file path/integrity\n",
      "[ WARN:0@0.041] global loadsave.cpp:248 findDecoder imread_('e'): can't open/read file: check file path/integrity\n",
      "[ WARN:0@0.041] global loadsave.cpp:248 findDecoder imread_('t'): can't open/read file: check file path/integrity\n",
      "[ WARN:0@0.041] global loadsave.cpp:248 findDecoder imread_('o'): can't open/read file: check file path/integrity\n",
      "[ WARN:0@0.041] global loadsave.cpp:248 findDecoder imread_('b'): can't open/read file: check file path/integrity\n",
      "[ WARN:0@0.041] global loadsave.cpp:248 findDecoder imread_('y'): can't open/read file: check file path/integrity\n",
      "[ WARN:0@0.041] global loadsave.cpp:248 findDecoder imread_('c'): can't open/read file: check file path/integrity\n",
      "[ WARN:0@0.041] global loadsave.cpp:248 findDecoder imread_('o'): can't open/read file: check file path/integrity\n",
      "[ WARN:0@0.041] global loadsave.cpp:248 findDecoder imread_('d'): can't open/read file: check file path/integrity\n",
      "[ WARN:0@0.041] global loadsave.cpp:248 findDecoder imread_('e'): can't open/read file: check file path/integrity\n",
      "[ WARN:0@0.042] global loadsave.cpp:248 findDecoder imread_('c'): can't open/read file: check file path/integrity\n",
      "[ WARN:0@0.042] global loadsave.cpp:248 findDecoder imread_('v'): can't open/read file: check file path/integrity\n",
      "[ WARN:0@0.042] global loadsave.cpp:248 findDecoder imread_('c'): can't open/read file: check file path/integrity\n",
      "[ WARN:0@0.042] global loadsave.cpp:248 findDecoder imread_('v'): can't open/read file: check file path/integrity\n",
      "[ WARN:0@0.042] global loadsave.cpp:248 findDecoder imread_('-'): can't open/read file: check file path/integrity\n",
      "[ WARN:0@0.042] global loadsave.cpp:248 findDecoder imread_('i'): can't open/read file: check file path/integrity\n",
      "[ WARN:0@0.042] global loadsave.cpp:248 findDecoder imread_('n'): can't open/read file: check file path/integrity\n",
      "[ WARN:0@0.042] global loadsave.cpp:248 findDecoder imread_('t'): can't open/read file: check file path/integrity\n",
      "[ WARN:0@0.042] global loadsave.cpp:248 findDecoder imread_('r'): can't open/read file: check file path/integrity\n",
      "[ WARN:0@0.042] global loadsave.cpp:248 findDecoder imread_('o'): can't open/read file: check file path/integrity\n",
      "[ WARN:0@0.043] global loadsave.cpp:248 findDecoder imread_('f'): can't open/read file: check file path/integrity\n",
      "[ WARN:0@0.043] global loadsave.cpp:248 findDecoder imread_('r'): can't open/read file: check file path/integrity\n",
      "[ WARN:0@0.043] global loadsave.cpp:248 findDecoder imread_('a'): can't open/read file: check file path/integrity\n",
      "[ WARN:0@0.043] global loadsave.cpp:248 findDecoder imread_('m'): can't open/read file: check file path/integrity\n",
      "[ WARN:0@0.043] global loadsave.cpp:248 findDecoder imread_('e'): can't open/read file: check file path/integrity\n",
      "[ WARN:0@0.043] global loadsave.cpp:248 findDecoder imread_('s'): can't open/read file: check file path/integrity\n"
     ]
    },
    {
     "ename": "AttributeError",
     "evalue": "'NoneType' object has no attribute 'shape'",
     "output_type": "error",
     "traceback": [
      "\u001b[0;31m---------------------------------------------------------------------------\u001b[0m",
      "\u001b[0;31mAttributeError\u001b[0m                            Traceback (most recent call last)",
      "Cell \u001b[0;32mIn[1], line 7\u001b[0m\n\u001b[1;32m      4\u001b[0m images \u001b[39m=\u001b[39m [cv2\u001b[39m.\u001b[39mimread(image_path) \u001b[39mfor\u001b[39;00m image_path \u001b[39min\u001b[39;00m \u001b[39m\"\u001b[39m\u001b[39m/home/toby/code/cv/cv-intro/frames/\u001b[39m\u001b[39m\"\u001b[39m]\n\u001b[1;32m      6\u001b[0m \u001b[39m# Create a VideoWriter object.\u001b[39;00m\n\u001b[0;32m----> 7\u001b[0m video_writer \u001b[39m=\u001b[39m cv2\u001b[39m.\u001b[39mVideoWriter(\u001b[39m'\u001b[39m\u001b[39moutput.mp4\u001b[39m\u001b[39m'\u001b[39m, cv2\u001b[39m.\u001b[39mVideoWriter_fourcc(\u001b[39m*\u001b[39m\u001b[39m'\u001b[39m\u001b[39mmp4v\u001b[39m\u001b[39m'\u001b[39m), \u001b[39m25\u001b[39m, (images[\u001b[39m0\u001b[39;49m]\u001b[39m.\u001b[39;49mshape[\u001b[39m1\u001b[39m], images[\u001b[39m0\u001b[39m]\u001b[39m.\u001b[39mshape[\u001b[39m0\u001b[39m]))\n\u001b[1;32m      9\u001b[0m \u001b[39m# Write the images to the VideoWriter object.\u001b[39;00m\n\u001b[1;32m     10\u001b[0m \u001b[39mfor\u001b[39;00m image \u001b[39min\u001b[39;00m images:\n",
      "\u001b[0;31mAttributeError\u001b[0m: 'NoneType' object has no attribute 'shape'"
     ]
    }
   ],
   "source": [
    "import cv2\n",
    "\n",
    "# Load the images.\n",
    "images = [cv2.imread(image_path) for image_path in \"/home/toby/code/cv/cv-intro/frames/\"]\n",
    "\n",
    "# Create a VideoWriter object.\n",
    "video_writer = cv2.VideoWriter('output.mp4', cv2.VideoWriter_fourcc(*'mp4v'), 25, (images[0].shape[1], images[0].shape[0]))\n",
    "\n",
    "# Write the images to the VideoWriter object.\n",
    "for image in images:\n",
    "    video_writer.write(image)\n",
    "\n",
    "# Close the VideoWriter object.\n",
    "video_writer.release()"
   ]
  }
 ],
 "metadata": {
  "kernelspec": {
   "display_name": "bluecv",
   "language": "python",
   "name": "python3"
  },
  "language_info": {
   "codemirror_mode": {
    "name": "ipython",
    "version": 3
   },
   "file_extension": ".py",
   "mimetype": "text/x-python",
   "name": "python",
   "nbconvert_exporter": "python",
   "pygments_lexer": "ipython3",
   "version": "3.9.2"
  },
  "orig_nbformat": 4
 },
 "nbformat": 4,
 "nbformat_minor": 2
}
